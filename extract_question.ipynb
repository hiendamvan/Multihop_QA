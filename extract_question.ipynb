{
 "cells": [
  {
   "cell_type": "code",
   "execution_count": 1,
   "id": "9d68cbb5",
   "metadata": {},
   "outputs": [
    {
     "name": "stdout",
     "output_type": "stream",
     "text": [
      "comparison_query    856\n",
      "inference_query     816\n",
      "temporal_query      583\n",
      "null_query          301\n",
      "Name: count, dtype: int64\n"
     ]
    }
   ],
   "source": [
    "import json\n",
    "import pandas as pd\n",
    "\n",
    "with open('dataset/MultiHopRAG.json', 'r', encoding='utf-8') as f:\n",
    "    data = json.load(f)\n",
    "\n",
    "# In nội dung\n",
    "questions = []\n",
    "answers = []\n",
    "question_types = []\n",
    "\n",
    "for i in range(len(data)):\n",
    "    questions.append(data[i]['query'])\n",
    "    question_types.append(data[i]['question_type'])\n",
    "    answers.append(data[i]['answer'])\n",
    "    \n",
    "# Đếm tần suất xuất hiện\n",
    "counts = pd.Series(question_types).value_counts()\n",
    "\n",
    "print(counts)"
   ]
  },
  {
   "cell_type": "code",
   "execution_count": 7,
   "id": "76d44d19",
   "metadata": {},
   "outputs": [
    {
     "data": {
      "text/plain": [
       "2    1079\n",
       "3     778\n",
       "4     398\n",
       "0     301\n",
       "Name: count, dtype: int64"
      ]
     },
     "execution_count": 7,
     "metadata": {},
     "output_type": "execute_result"
    }
   ],
   "source": [
    "evidence_length = [len(d['evidence_list']) for d in data]\n",
    "pd.Series(evidence_length).value_counts()"
   ]
  },
  {
   "cell_type": "code",
   "execution_count": 8,
   "id": "364754db",
   "metadata": {},
   "outputs": [
    {
     "data": {
      "text/plain": [
       "{'query': 'Who is the individual associated with the cryptocurrency industry facing a criminal trial on fraud and conspiracy charges, as reported by both The Verge and TechCrunch, and is accused by prosecutors of committing fraud for personal gain?',\n",
       " 'answer': 'Sam Bankman-Fried',\n",
       " 'question_type': 'inference_query',\n",
       " 'evidence_list': [{'title': 'The FTX trial is bigger than Sam Bankman-Fried',\n",
       "   'author': 'Elizabeth Lopatto',\n",
       "   'url': 'https://www.theverge.com/2023/9/28/23893269/ftx-sam-bankman-fried-trial-evidence-crypto',\n",
       "   'source': 'The Verge',\n",
       "   'category': 'technology',\n",
       "   'published_at': '2023-09-28T12:00:00+00:00',\n",
       "   'fact': 'Before his fall, Bankman-Fried made himself out to be the Good Boy of crypto — the trustworthy face of a sometimes-shady industry.'},\n",
       "  {'title': 'SBF’s trial starts soon, but how did he — and FTX — get here?',\n",
       "   'author': 'Jacquelyn Melinek',\n",
       "   'url': 'https://techcrunch.com/2023/10/01/ftx-lawsuit-timeline/',\n",
       "   'source': 'TechCrunch',\n",
       "   'category': 'technology',\n",
       "   'published_at': '2023-10-01T14:00:29+00:00',\n",
       "   'fact': 'The highly anticipated criminal trial for Sam Bankman-Fried, former CEO of bankrupt crypto exchange FTX, started Tuesday to determine whether he’s guilty of seven counts of fraud and conspiracy.'},\n",
       "  {'title': 'Sam Altman backs teens’ startup, Google unveils the Pixel 8 and TikTok tests an ad-free tier',\n",
       "   'author': 'Kyle Wiggers',\n",
       "   'url': 'https://techcrunch.com/2023/10/07/sam-altman-backs-a-teens-startup-google-unveils-the-pixel-8-and-tiktok-tests-an-ad-free-tier/',\n",
       "   'source': 'TechCrunch',\n",
       "   'category': 'technology',\n",
       "   'published_at': '2023-10-07T20:15:26+00:00',\n",
       "   'fact': 'The prosecution painted Bankman-Fried as someone who knowingly committed fraud to achieve great wealth, power and influence, while the defense countered that the FTX founder acted in good faith, never meant to commit fraud or steal and basically got in over his head.'}]}"
      ]
     },
     "execution_count": 8,
     "metadata": {},
     "output_type": "execute_result"
    }
   ],
   "source": [
    "data[0]"
   ]
  }
 ],
 "metadata": {
  "kernelspec": {
   "display_name": "Python 3",
   "language": "python",
   "name": "python3"
  },
  "language_info": {
   "codemirror_mode": {
    "name": "ipython",
    "version": 3
   },
   "file_extension": ".py",
   "mimetype": "text/x-python",
   "name": "python",
   "nbconvert_exporter": "python",
   "pygments_lexer": "ipython3",
   "version": "3.11.4"
  }
 },
 "nbformat": 4,
 "nbformat_minor": 5
}
