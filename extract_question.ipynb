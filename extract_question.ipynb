{
 "cells": [
  {
   "cell_type": "code",
   "execution_count": 4,
   "id": "9d68cbb5",
   "metadata": {},
   "outputs": [
    {
     "name": "stdout",
     "output_type": "stream",
     "text": [
      "comparison_query    856\n",
      "inference_query     816\n",
      "temporal_query      583\n",
      "null_query          301\n",
      "Name: count, dtype: int64\n"
     ]
    }
   ],
   "source": [
    "import json\n",
    "import pandas as pd\n",
    "\n",
    "with open('dataset/MultiHopRAG.json', 'r', encoding='utf-8') as f:\n",
    "    data = json.load(f)\n",
    "\n",
    "# In nội dung\n",
    "questions = []\n",
    "answers = []\n",
    "question_types = []\n",
    "\n",
    "for i in range(len(data)):\n",
    "    questions.append(data[i]['query'])\n",
    "    question_types.append(data[i]['question_type'])\n",
    "    answers.append(data[i]['answer'])\n",
    "    \n",
    "# Đếm tần suất xuất hiện\n",
    "counts = pd.Series(question_types).value_counts()\n",
    "\n",
    "print(counts)"
   ]
  },
  {
   "cell_type": "code",
   "execution_count": 5,
   "id": "76d44d19",
   "metadata": {},
   "outputs": [
    {
     "data": {
      "text/plain": [
       "2    1079\n",
       "3     778\n",
       "4     398\n",
       "0     301\n",
       "Name: count, dtype: int64"
      ]
     },
     "execution_count": 5,
     "metadata": {},
     "output_type": "execute_result"
    }
   ],
   "source": [
    "evidence_length = [len(d['evidence_list']) for d in data]\n",
    "pd.Series(evidence_length).value_counts()"
   ]
  },
  {
   "cell_type": "code",
   "execution_count": 3,
   "id": "364754db",
   "metadata": {},
   "outputs": [
    {
     "data": {
      "text/plain": [
       "{'query': 'Who is the individual associated with the cryptocurrency industry facing a criminal trial on fraud and conspiracy charges, as reported by both The Verge and TechCrunch, and is accused by prosecutors of committing fraud for personal gain?',\n",
       " 'answer': 'Sam Bankman-Fried',\n",
       " 'question_type': 'inference_query',\n",
       " 'evidence_list': [{'title': 'The FTX trial is bigger than Sam Bankman-Fried',\n",
       "   'author': 'Elizabeth Lopatto',\n",
       "   'url': 'https://www.theverge.com/2023/9/28/23893269/ftx-sam-bankman-fried-trial-evidence-crypto',\n",
       "   'source': 'The Verge',\n",
       "   'category': 'technology',\n",
       "   'published_at': '2023-09-28T12:00:00+00:00',\n",
       "   'fact': 'Before his fall, Bankman-Fried made himself out to be the Good Boy of crypto — the trustworthy face of a sometimes-shady industry.'},\n",
       "  {'title': 'SBF’s trial starts soon, but how did he — and FTX — get here?',\n",
       "   'author': 'Jacquelyn Melinek',\n",
       "   'url': 'https://techcrunch.com/2023/10/01/ftx-lawsuit-timeline/',\n",
       "   'source': 'TechCrunch',\n",
       "   'category': 'technology',\n",
       "   'published_at': '2023-10-01T14:00:29+00:00',\n",
       "   'fact': 'The highly anticipated criminal trial for Sam Bankman-Fried, former CEO of bankrupt crypto exchange FTX, started Tuesday to determine whether he’s guilty of seven counts of fraud and conspiracy.'},\n",
       "  {'title': 'Sam Altman backs teens’ startup, Google unveils the Pixel 8 and TikTok tests an ad-free tier',\n",
       "   'author': 'Kyle Wiggers',\n",
       "   'url': 'https://techcrunch.com/2023/10/07/sam-altman-backs-a-teens-startup-google-unveils-the-pixel-8-and-tiktok-tests-an-ad-free-tier/',\n",
       "   'source': 'TechCrunch',\n",
       "   'category': 'technology',\n",
       "   'published_at': '2023-10-07T20:15:26+00:00',\n",
       "   'fact': 'The prosecution painted Bankman-Fried as someone who knowingly committed fraud to achieve great wealth, power and influence, while the defense countered that the FTX founder acted in good faith, never meant to commit fraud or steal and basically got in over his head.'}]}"
      ]
     },
     "execution_count": 3,
     "metadata": {},
     "output_type": "execute_result"
    }
   ],
   "source": [
    "data[0]"
   ]
  },
  {
   "cell_type": "code",
   "execution_count": 16,
   "id": "94e39831",
   "metadata": {},
   "outputs": [
    {
     "data": {
      "text/plain": [
       "(array([  1.,   0.,   0.,  66., 167., 117.,  58.,  44.,  37.,  28.,  18.,\n",
       "         14.,   9.,   4.,   6.,   7.,   9.,   5.,   2.,   1.,   0.,   1.,\n",
       "          3.,   1.,   0.,   1.,   0.,   0.,   1.,   1.,   0.,   1.,   1.,\n",
       "          1.,   1.,   0.,   0.,   0.,   0.,   0.,   0.,   1.,   2.,   0.,\n",
       "          0.,   0.,   0.,   0.,   1.,   1.]),\n",
       " array([    0.  ,  1422.08,  2844.16,  4266.24,  5688.32,  7110.4 ,\n",
       "         8532.48,  9954.56, 11376.64, 12798.72, 14220.8 , 15642.88,\n",
       "        17064.96, 18487.04, 19909.12, 21331.2 , 22753.28, 24175.36,\n",
       "        25597.44, 27019.52, 28441.6 , 29863.68, 31285.76, 32707.84,\n",
       "        34129.92, 35552.  , 36974.08, 38396.16, 39818.24, 41240.32,\n",
       "        42662.4 , 44084.48, 45506.56, 46928.64, 48350.72, 49772.8 ,\n",
       "        51194.88, 52616.96, 54039.04, 55461.12, 56883.2 , 58305.28,\n",
       "        59727.36, 61149.44, 62571.52, 63993.6 , 65415.68, 66837.76,\n",
       "        68259.84, 69681.92, 71104.  ]),\n",
       " <BarContainer object of 50 artists>)"
      ]
     },
     "execution_count": 16,
     "metadata": {},
     "output_type": "execute_result"
    },
    {
     "data": {
      "image/png": "[encoded data removed]",
      "text/plain": [
       "<Figure size 640x480 with 1 Axes>"
      ]
     },
     "metadata": {},
     "output_type": "display_data"
    }
   ],
   "source": [
    "import matplotlib.pyplot as plt\n",
    "with open('dataset/multihoprag_corpus.txt', \"r\", encoding=\"utf-8\") as f:\n",
    "    corpus = f.read()\n",
    "docs = corpus.split('Title:')\n",
    "lengths = [len(doc) for doc in docs]\n",
    "plt.hist(x=lengths, bins=50)"
   ]
  }
 ],
 "metadata": {
  "kernelspec": {
   "display_name": "Python 3",
   "language": "python",
   "name": "python3"
  },
  "language_info": {
   "codemirror_mode": {
    "name": "ipython",
    "version": 3
   },
   "file_extension": ".py",
   "mimetype": "text/x-python",
   "name": "python",
   "nbconvert_exporter": "python",
   "pygments_lexer": "ipython3",
   "version": "3.11.4"
  }
 },
 "nbformat": 4,
 "nbformat_minor": 5
}
